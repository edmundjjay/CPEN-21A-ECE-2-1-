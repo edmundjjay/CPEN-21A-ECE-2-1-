{
  "nbformat": 4,
  "nbformat_minor": 0,
  "metadata": {
    "colab": {
      "name": "Untitled0.ipynb",
      "provenance": [],
      "collapsed_sections": [],
      "authorship_tag": "ABX9TyNm7KD2SSp/ypmnRMB/IpyB",
      "include_colab_link": true
    },
    "kernelspec": {
      "name": "python3",
      "display_name": "Python 3"
    },
    "language_info": {
      "name": "python"
    }
  },
  "cells": [
    {
      "cell_type": "markdown",
      "metadata": {
        "id": "view-in-github",
        "colab_type": "text"
      },
      "source": [
        "<a href=\"https://colab.research.google.com/github/edmundjjay/CPEN-21A-ECE-2-1-/blob/main/LAB1.ipynb\" target=\"_parent\"><img src=\"https://colab.research.google.com/assets/colab-badge.svg\" alt=\"Open In Colab\"/></a>"
      ]
    },
    {
      "cell_type": "code",
      "metadata": {
        "colab": {
          "base_uri": "https://localhost:8080/"
        },
        "id": "Z5POPorh42Np",
        "outputId": "c2044e47-1886-4916-a3dc-dd6169fee932"
      },
      "source": [
        "a=(\"Welcome to Python Programming\")\n",
        "b=(\"Name:Edmund Jay D. Bacang\")\n",
        "c=(\"Address:Blk 41 lot 28 pnp afp housing ciudad adelina barangay luciano trece martirez cavite\")\n",
        "d=(\"Age:20\")\n",
        "print(a)\n",
        "print(b)\n",
        "print(c)\n",
        "print(d)"
      ],
      "execution_count": 1,
      "outputs": [
        {
          "output_type": "stream",
          "name": "stdout",
          "text": [
            "Welcome to Python Programming\n",
            "Name:Edmund Jay D. Bacang\n",
            "Address:Blk 41 lot 28 pnp afp housing ciudad adelina barangay luciano trece martirez cavite\n",
            "Age:20\n"
          ]
        }
      ]
    },
    {
      "cell_type": "markdown",
      "metadata": {
        "id": "NTJZOH_J43Cv"
      },
      "source": [
        ""
      ]
    }
  ]
}