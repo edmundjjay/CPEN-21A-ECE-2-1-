{
  "nbformat": 4,
  "nbformat_minor": 0,
  "metadata": {
    "colab": {
      "name": "Control Structures.ipynb",
      "provenance": [],
      "authorship_tag": "ABX9TyO6xnxsr0RLnkJTbgv7gIeT",
      "include_colab_link": true
    },
    "kernelspec": {
      "name": "python3",
      "display_name": "Python 3"
    },
    "language_info": {
      "name": "python"
    }
  },
  "cells": [
    {
      "cell_type": "markdown",
      "metadata": {
        "id": "view-in-github",
        "colab_type": "text"
      },
      "source": [
        "<a href=\"https://colab.research.google.com/github/edmundjjay/CPEN-21A-ECE-2-1-/blob/main/Control_Structures.ipynb\" target=\"_parent\"><img src=\"https://colab.research.google.com/assets/colab-badge.svg\" alt=\"Open In Colab\"/></a>"
      ]
    },
    {
      "cell_type": "markdown",
      "metadata": {
        "id": "2qviIqVeSF6W"
      },
      "source": [
        "if statement"
      ]
    },
    {
      "cell_type": "code",
      "metadata": {
        "colab": {
          "base_uri": "https://localhost:8080/"
        },
        "id": "UspDeSAwLxvO",
        "outputId": "92435201-ced8-4c8a-aa4e-5584c7e673dc"
      },
      "source": [
        "\n",
        "a=12\n",
        "b=100\n",
        "if b>a:\n",
        "  print(\"b is greater than a\")\n"
      ],
      "execution_count": 1,
      "outputs": [
        {
          "output_type": "stream",
          "name": "stdout",
          "text": [
            "b is greater than a\n"
          ]
        }
      ]
    },
    {
      "cell_type": "markdown",
      "metadata": {
        "id": "AHaOuv-DSUvl"
      },
      "source": [
        "Elif statemnet"
      ]
    },
    {
      "cell_type": "code",
      "metadata": {
        "id": "rGnahqR5SjM9"
      },
      "source": [
        "a=12\n",
        "b=13\n",
        "if b>a:\n",
        "  print(\"b is greater than a\")\n",
        "  "
      ],
      "execution_count": null,
      "outputs": []
    },
    {
      "cell_type": "markdown",
      "metadata": {
        "id": "yI3iiRYASXVV"
      },
      "source": [
        "else statement"
      ]
    },
    {
      "cell_type": "code",
      "metadata": {
        "colab": {
          "base_uri": "https://localhost:8080/"
        },
        "id": "2gJ2ebFeMUfW",
        "outputId": "6858bc88-f38b-4358-966a-afe0d9918d67"
      },
      "source": [
        "a=30\n",
        "b=30\n",
        "if a>b:\n",
        "  print(\"a is greater than b\")\n",
        "elif b>a:\n",
        "  print(\"b is greater than a\")\n",
        "else:\n",
        "  print(\"a is equal to b\")"
      ],
      "execution_count": 3,
      "outputs": [
        {
          "output_type": "stream",
          "name": "stdout",
          "text": [
            "a is equal to b\n"
          ]
        }
      ]
    },
    {
      "cell_type": "markdown",
      "metadata": {
        "id": "bfwM8s8OSwSd"
      },
      "source": [
        "short hand if statemnet"
      ]
    },
    {
      "cell_type": "code",
      "metadata": {
        "colab": {
          "base_uri": "https://localhost:8080/"
        },
        "id": "1DEpEM7ZMpnd",
        "outputId": "7923931b-35f5-4f23-828c-7e17dd0a73f5"
      },
      "source": [
        "a=12\n",
        "b=6\n",
        "if a>b:\n",
        "  print(\"a is greater than b\")"
      ],
      "execution_count": 4,
      "outputs": [
        {
          "output_type": "stream",
          "name": "stdout",
          "text": [
            "a is greater than b\n"
          ]
        }
      ]
    },
    {
      "cell_type": "markdown",
      "metadata": {
        "id": "BWOh4ddWSZ09"
      },
      "source": [
        "short hand if... else statement"
      ]
    },
    {
      "cell_type": "code",
      "metadata": {
        "colab": {
          "base_uri": "https://localhost:8080/"
        },
        "id": "wJZVRqsDM2U1",
        "outputId": "722d0d50-7334-4f5b-f99c-c5ebee134f2e"
      },
      "source": [
        "a=7\n",
        "b=14\n",
        "print(\"a is greater than b\")if a>b else print(\"b is greater than a\")"
      ],
      "execution_count": 5,
      "outputs": [
        {
          "output_type": "stream",
          "name": "stdout",
          "text": [
            "b is greater than a\n"
          ]
        }
      ]
    },
    {
      "cell_type": "markdown",
      "metadata": {
        "id": "Ynw-GiPDS6gl"
      },
      "source": [
        "logical condition"
      ]
    },
    {
      "cell_type": "code",
      "metadata": {
        "colab": {
          "base_uri": "https://localhost:8080/"
        },
        "id": "4TaS_E8GNCOG",
        "outputId": "5d3f74c5-c219-45dd-8e21-e9d7ceeaba9d"
      },
      "source": [
        "a=200\n",
        "b=300\n",
        "c=500\n",
        "if a>b and c>a:\n",
        "  print(\"both conditions are true\")\n",
        "else:\n",
        "  print(\"evaluated as false\") "
      ],
      "execution_count": 7,
      "outputs": [
        {
          "output_type": "stream",
          "name": "stdout",
          "text": [
            "evaluated as false\n"
          ]
        }
      ]
    },
    {
      "cell_type": "code",
      "metadata": {
        "colab": {
          "base_uri": "https://localhost:8080/"
        },
        "id": "GyVujR0pNZGk",
        "outputId": "3b889273-bd0c-468b-8a58-022fe6feef4c"
      },
      "source": [
        "a=200\n",
        "b=300\n",
        "c=500\n",
        "if a>b or c>a:\n",
        "  print(\"evaluated as True\")"
      ],
      "execution_count": 8,
      "outputs": [
        {
          "output_type": "stream",
          "name": "stdout",
          "text": [
            "evaluated as True\n"
          ]
        }
      ]
    },
    {
      "cell_type": "code",
      "metadata": {
        "colab": {
          "base_uri": "https://localhost:8080/"
        },
        "id": "dD8BKMk-Nxzm",
        "outputId": "4548953d-5eb4-43d9-f770-881f257a8b4f"
      },
      "source": [
        "a=200\n",
        "b=300\n",
        "c=500\n",
        "if a>b or c>a:\n",
        "  print(\"Evaluted as true\")\n",
        "else:\n",
        "    print(\"evaluated as false\")"
      ],
      "execution_count": 10,
      "outputs": [
        {
          "output_type": "stream",
          "name": "stdout",
          "text": [
            "Evaluted as true\n"
          ]
        }
      ]
    },
    {
      "cell_type": "markdown",
      "metadata": {
        "id": "G4amUvZ4TDf1"
      },
      "source": [
        "nested if.. else statement"
      ]
    },
    {
      "cell_type": "code",
      "metadata": {
        "colab": {
          "base_uri": "https://localhost:8080/"
        },
        "id": "mfTNaRaLOGg-",
        "outputId": "abe98875-b9d3-4d4b-bb51-6db28a3484f2"
      },
      "source": [
        "x=20\n",
        "\n",
        "if x>10:\n",
        "  print(\"above ten\")\n",
        "  if x>20:\n",
        "    print(\"Above twenty\")\n",
        "else:\n",
        "  print(\"above ten but not above twenty\")\n",
        "\n"
      ],
      "execution_count": 30,
      "outputs": [
        {
          "output_type": "stream",
          "name": "stdout",
          "text": [
            "above ten\n"
          ]
        }
      ]
    },
    {
      "cell_type": "markdown",
      "metadata": {
        "id": "vBKQxFy6TKVW"
      },
      "source": [
        "example 1"
      ]
    },
    {
      "cell_type": "code",
      "metadata": {
        "colab": {
          "base_uri": "https://localhost:8080/"
        },
        "id": "y-YYAZDGPxeu",
        "outputId": "9ac27153-8aa9-4efb-d9a3-65abc7dfdab7"
      },
      "source": [
        "# The qualifying age to vote\n",
        "age=int(input(\"Enter your Age:\"))\n",
        "if age>=18:\n",
        "  print(\"You are qualified to vote\")\n",
        "else:\n",
        "    print(\"You are not qualified to vote\")"
      ],
      "execution_count": 32,
      "outputs": [
        {
          "output_type": "stream",
          "name": "stdout",
          "text": [
            "Enter your Age:20\n",
            "You are qualified to vote\n"
          ]
        }
      ]
    },
    {
      "cell_type": "markdown",
      "metadata": {
        "id": "RMye05RbTMUO"
      },
      "source": [
        "example 2"
      ]
    },
    {
      "cell_type": "code",
      "metadata": {
        "id": "QLAho0U7QUqe"
      },
      "source": [
        "num=int(input(\"Enter the number:\"))\n",
        "if num==0:\n",
        "  print(\"zero\")\n",
        "elif num>0:\n",
        "  print(\"positive\")\n",
        "else:\n",
        "  print(\"negative\")"
      ],
      "execution_count": null,
      "outputs": []
    },
    {
      "cell_type": "markdown",
      "metadata": {
        "id": "DqoSV-GRTODN"
      },
      "source": [
        "example 3"
      ]
    },
    {
      "cell_type": "code",
      "metadata": {
        "id": "G6xHFCEoQq23"
      },
      "source": [
        "grade=float(input(\"Please enter your grade\"))\n",
        "if grade>=75:\n",
        "  print(\"Passed\")\n",
        "elif grade<74:\n",
        "  print(\"Failed\")\n",
        "else:\n",
        "  print(\"Remedial\")\n"
      ],
      "execution_count": null,
      "outputs": []
    }
  ]
}