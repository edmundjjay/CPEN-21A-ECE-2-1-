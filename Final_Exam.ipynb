{
  "nbformat": 4,
  "nbformat_minor": 0,
  "metadata": {
    "colab": {
      "name": "Final Exam.ipynb",
      "provenance": [],
      "authorship_tag": "ABX9TyOAvoG0EyWAkR/Ba3csFNuI",
      "include_colab_link": true
    },
    "kernelspec": {
      "name": "python3",
      "display_name": "Python 3"
    },
    "language_info": {
      "name": "python"
    }
  },
  "cells": [
    {
      "cell_type": "markdown",
      "metadata": {
        "id": "view-in-github",
        "colab_type": "text"
      },
      "source": [
        "<a href=\"https://colab.research.google.com/github/edmundjjay/CPEN-21A-ECE-2-1-/blob/main/Final_Exam.ipynb\" target=\"_parent\"><img src=\"https://colab.research.google.com/assets/colab-badge.svg\" alt=\"Open In Colab\"/></a>"
      ]
    },
    {
      "cell_type": "markdown",
      "source": [
        "# Final Exam"
      ],
      "metadata": {
        "id": "sqeLqQ8xHyO6"
      }
    },
    {
      "cell_type": "markdown",
      "source": [
        "Problem Statement 1\n"
      ],
      "metadata": {
        "id": "EGeBKH5H7hSV"
      }
    },
    {
      "cell_type": "code",
      "source": [
        "n=[]\n",
        "x=0\n",
        "for x in range(1,11):\n",
        "  while True:\n",
        "    y=float(input(\"Enter number:\"))\n",
        "    if y<5:\n",
        "     break\n",
        "    else:\n",
        "     print(\"Please input numbers that are less than 5\")\n",
        "  n.append(y)\n",
        "  x=x+1\n",
        "\n",
        "x=0\n",
        "summation=0\n",
        "print(\"The numbers you have entered are:\",n)\n",
        "print(\"\")\n",
        "for x in n:\n",
        "  if x<5:\n",
        "    summation=summation+x\n",
        "print(\"The summation of all numbers that are less than 5 are equals to\",summation\n",
        "      "
      ],
      "metadata": {
        "id": "xQCqETflGqVT"
      },
      "execution_count": null,
      "outputs": []
    },
    {
      "cell_type": "markdown",
      "source": [
        "Problem Statement 2\n",
        "\n"
      ],
      "metadata": {
        "id": "ITXiWsAhf0B_"
      }
    },
    {
      "cell_type": "code",
      "source": [
        "num=1;\n",
        "data={};\n",
        "while(num <=5):\n",
        "  i = str(num);\n",
        "  data[num] = input(\"Enter Number:\")\n",
        "  print(\"Value for Number \"+ i +\" is \"+ data[num])\n",
        "  num+=1\n",
        "  if(num==6):\n",
        "    sum=float(data[1])+float(data[5])\n",
        "print(\"The sum of the first and last number is: \" + str(sum))"
      ],
      "metadata": {
        "id": "TSFwU8PehAtA"
      },
      "execution_count": null,
      "outputs": []
    },
    {
      "cell_type": "markdown",
      "source": [
        "Problem Statement 3"
      ],
      "metadata": {
        "id": "28-WTdThfvsn"
      }
    },
    {
      "cell_type": "code",
      "execution_count": null,
      "metadata": {
        "id": "h4k-3FvuMujA"
      },
      "outputs": [],
      "source": [
        "grade=float(input(\"Enter your Grade:\"))\n",
        "if grade >=90: print(\"A\")\n",
        "else:\n",
        "  if grade >=80: print(\"B\")\n",
        "  elif grade >=70: print(\"C\")\n",
        "  elif grade >=60: print(\"D\")\n",
        "  else: print(\"F\")"
      ]
    }
  ]
}