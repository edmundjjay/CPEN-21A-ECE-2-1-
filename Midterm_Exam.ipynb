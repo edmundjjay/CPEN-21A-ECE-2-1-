{
  "nbformat": 4,
  "nbformat_minor": 0,
  "metadata": {
    "colab": {
      "name": "Midterm Exam.ipynb",
      "provenance": [],
      "authorship_tag": "ABX9TyMKYT13IaniJ6lzacnzvsuK",
      "include_colab_link": true
    },
    "kernelspec": {
      "name": "python3",
      "display_name": "Python 3"
    },
    "language_info": {
      "name": "python"
    }
  },
  "cells": [
    {
      "cell_type": "markdown",
      "metadata": {
        "id": "view-in-github",
        "colab_type": "text"
      },
      "source": [
        "<a href=\"https://colab.research.google.com/github/edmundjjay/CPEN-21A-ECE-2-1-/blob/main/Midterm_Exam.ipynb\" target=\"_parent\"><img src=\"https://colab.research.google.com/assets/colab-badge.svg\" alt=\"Open In Colab\"/></a>"
      ]
    },
    {
      "cell_type": "markdown",
      "metadata": {
        "id": "7LIeGg0969wA"
      },
      "source": [
        "Problem Statement No. 1"
      ]
    },
    {
      "cell_type": "code",
      "metadata": {
        "colab": {
          "base_uri": "https://localhost:8080/"
        },
        "id": "87HDDpW13wKW",
        "outputId": "5333fe1d-3cd3-4c95-cf75-2323daf5fd1a"
      },
      "source": [
        "print (\"Welcome to Python Programming\")\n",
        "print (\"Name:Edmund Jay D. Bacang\")\n",
        "print (\"Student No.:202012035\")\n",
        "print (\"Age:20\" )\n",
        "print (\"Birthdate:8/9/2001\")\n",
        "print (\"Address:Blk 41 lot 28 PNP/AFP Housing Ciudad Adelina Barangay Luciano Trece Martirez, Cavite\")\n",
        "print (\"Course:Bachelor of Science Electronics and Communication Engineering\")\n",
        "print (\"Last Sem GWA (1.75)\")\n"
      ],
      "execution_count": 6,
      "outputs": [
        {
          "output_type": "stream",
          "name": "stdout",
          "text": [
            "Welcome to Python Programming\n",
            "Name:Edmund Jay D. Bacang\n",
            "Student No.:202012035\n",
            "Age:20yrs old\n",
            "Birthdate:8/9/2001\n",
            "Address:Blk 41 lot 28 PNP/AFP Housing Ciudad Adelina Barangay Luciano Trece Martirez, Cavite\n",
            "Course:Bachelor of Science Electronics and Communication Engineering\n",
            "Last Sem GWA (1.75)\n"
          ]
        }
      ]
    },
    {
      "cell_type": "markdown",
      "metadata": {
        "id": "kZWBy7Wq7QdO"
      },
      "source": [
        "Problem Statement No.2"
      ]
    },
    {
      "cell_type": "code",
      "metadata": {
        "colab": {
          "base_uri": "https://localhost:8080/"
        },
        "id": "BFz__PNN7SLA",
        "outputId": "977b250e-395f-4119-824a-34863f4db30b"
      },
      "source": [
        "\n",
        "n=4\n",
        "answ=\"y\"\n",
        "a=(2<n) and (n<6)\n",
        "print (a)\n",
        "\n",
        "b=(2<n) or (n==6)\n",
        "print (b)\n",
        "\n",
        "c=not(2<n) or (n==6)\n",
        "print (c)\n",
        "\n",
        "d=not(n<6)\n",
        "print (d)\n",
        "\n",
        "e=(answ==\"Y\") or (answ==\"y\")\n",
        "print (e)\n",
        "\n",
        "f=(answ==\"Y\") and (answ==\"y\")\n",
        "print (d)\n",
        "\n",
        "g=not(answ==\"y\")\n",
        "print (g)\n",
        "\n",
        "h=((2<n)and(n==5+1))or(answ==\"No\")\n",
        "print (h)\n",
        "\n",
        "i=((n==2)and(n==7))or(answ==\"Y\")\n",
        "print (i)\n",
        "\n",
        "j=(n==2)and((n==7)or(answ==\"Y\"))\n",
        "print (j)\n"
      ],
      "execution_count": 74,
      "outputs": [
        {
          "output_type": "stream",
          "name": "stdout",
          "text": [
            "True\n",
            "True\n",
            "False\n",
            "False\n",
            "True\n",
            "False\n",
            "False\n",
            "False\n"
          ]
        }
      ]
    },
    {
      "cell_type": "markdown",
      "metadata": {
        "id": "5wRje0Jd7sDm"
      },
      "source": [
        "Problem Statement No.3"
      ]
    },
    {
      "cell_type": "code",
      "metadata": {
        "colab": {
          "base_uri": "https://localhost:8080/"
        },
        "id": "V0y3UHVu7tpG",
        "outputId": "9fd53a37-0780-4ed4-8cd6-a12d4fef5f2c"
      },
      "source": [
        "x=2\n",
        "y=-3\n",
        "w=7\n",
        "z=-10\n",
        "\n",
        "print (x/y)\n",
        "print (w/y/x)\n",
        "print (z/y%x)\n",
        "print (x%-y*w)\n",
        "print (x%y)\n",
        "print (z%w-y/x*5+5)\n",
        "print (9-x%(2+y))\n",
        "print (z//w)\n",
        "print((2+y)**2)\n",
        "print (w/x*2)"
      ],
      "execution_count": 27,
      "outputs": [
        {
          "output_type": "stream",
          "name": "stdout",
          "text": [
            "-0.6666666666666666\n",
            "-1.1666666666666667\n",
            "1.3333333333333335\n",
            "14\n",
            "-1\n",
            "16.5\n",
            "9\n",
            "-2\n",
            "1\n",
            "7.0\n"
          ]
        }
      ]
    }
  ]
}