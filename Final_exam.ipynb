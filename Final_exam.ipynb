{
  "nbformat": 4,
  "nbformat_minor": 0,
  "metadata": {
    "colab": {
      "name": "Final exam",
      "provenance": [],
      "authorship_tag": "ABX9TyPI4tuCTkGuzgZOfW/LhHdE",
      "include_colab_link": true
    },
    "kernelspec": {
      "name": "python3",
      "display_name": "Python 3"
    },
    "language_info": {
      "name": "python"
    }
  },
  "cells": [
    {
      "cell_type": "markdown",
      "metadata": {
        "id": "view-in-github",
        "colab_type": "text"
      },
      "source": [
        "<a href=\"https://colab.research.google.com/github/edmundjjay/CPEN-21A-ECE-2-1-/blob/main/Final_exam.ipynb\" target=\"_parent\"><img src=\"https://colab.research.google.com/assets/colab-badge.svg\" alt=\"Open In Colab\"/></a>"
      ]
    },
    {
      "cell_type": "markdown",
      "source": [
        "Final Exam\n"
      ],
      "metadata": {
        "id": "YJAyDCS05S0a"
      }
    },
    {
      "cell_type": "markdown",
      "source": [
        "Problem statement 1"
      ],
      "metadata": {
        "id": "NORnqWYv5fmi"
      }
    },
    {
      "cell_type": "code",
      "execution_count": null,
      "metadata": {
        "id": "03Uj6Mbs5Qmh"
      },
      "outputs": [],
      "source": [
        "summation = 0\n",
        "index = 0\n",
        "temp = 0\n",
        "\n",
        "while index < 10:\n",
        "    print(\"[\" + str(index + 1) + \"]Enter a number less than 5: \")\n",
        "    temp = input()\n",
        "\n",
        "    if int(temp) < 5:\n",
        "        summation += int(temp)\n",
        "        index += 1\n",
        "\n",
        "print(\"Summation: \" + str(summation))"
      ]
    },
    {
      "cell_type": "markdown",
      "source": [
        "Problem statement 2"
      ],
      "metadata": {
        "id": "_YbK7jS95inZ"
      }
    },
    {
      "cell_type": "code",
      "source": [
        "num=1;\n",
        "data={};\n",
        "while(num <=5):\n",
        "  i = str(num);\n",
        "  data[num] = input(\"Enter Number:\")\n",
        "  print(\"Value for Number \"+ i +\" is \"+ data[num])\n",
        "  num+=1\n",
        "  if(num==6):\n",
        "    sum=float(data[1])+float(data[5])\n",
        "print(\"The sum of the first and last number is: \" + str(sum))"
      ],
      "metadata": {
        "id": "uk49Gqp_5cbx"
      },
      "execution_count": null,
      "outputs": []
    },
    {
      "cell_type": "markdown",
      "source": [
        "Problem statement 3"
      ],
      "metadata": {
        "id": "sJNLvM8u5j8q"
      }
    },
    {
      "cell_type": "code",
      "source": [
        "grade=float(input(\"Enter your Grade:\"))\n",
        "if grade >=90: print(\"A\")\n",
        "else:\n",
        "  if grade >=80: print(\"B\")\n",
        "  elif grade >=70: print(\"C\")\n",
        "  elif grade >=60: print(\"D\")\n",
        "  else: print(\"F\")"
      ],
      "metadata": {
        "id": "ya98p9I35ZAa"
      },
      "execution_count": null,
      "outputs": []
    }
  ]
}