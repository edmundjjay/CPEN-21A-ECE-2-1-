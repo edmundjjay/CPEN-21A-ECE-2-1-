{
  "nbformat": 4,
  "nbformat_minor": 0,
  "metadata": {
    "colab": {
      "name": "Operations and Expressions",
      "provenance": [],
      "collapsed_sections": [],
      "authorship_tag": "ABX9TyNksoTpAn3DsLVy4FilpAQM",
      "include_colab_link": true
    },
    "kernelspec": {
      "name": "python3",
      "display_name": "Python 3"
    },
    "language_info": {
      "name": "python"
    }
  },
  "cells": [
    {
      "cell_type": "markdown",
      "metadata": {
        "id": "view-in-github",
        "colab_type": "text"
      },
      "source": [
        "<a href=\"https://colab.research.google.com/github/edmundjjay/CPEN-21A-ECE-2-1-/blob/main/Operations_and_Expressions.ipynb\" target=\"_parent\"><img src=\"https://colab.research.google.com/assets/colab-badge.svg\" alt=\"Open In Colab\"/></a>"
      ]
    },
    {
      "cell_type": "code",
      "metadata": {
        "id": "-ye8n04NG1fn"
      },
      "source": [
        "print(10>9)\n",
        "\n",
        "a=6\n",
        "b=7\n",
        "\n",
        "print(a==b)\n",
        "print(a!=a)"
      ],
      "execution_count": null,
      "outputs": []
    },
    {
      "cell_type": "markdown",
      "metadata": {
        "id": "VkdcG8LbG7xI"
      },
      "source": [
        "arithmetic operator\n"
      ]
    },
    {
      "cell_type": "code",
      "metadata": {
        "id": "uCklHMZrHAV_"
      },
      "source": [
        "print(10+5)\n",
        "print(10-5)\n",
        "print(10*5)\n",
        "print(10/5)\n",
        "print(10%5) #moodulo division, remainder\n",
        "print(10//5) #floor division\n",
        "print(10//3) #floor division\n",
        "print(10%3) #3 x 3 = 9 + 1"
      ],
      "execution_count": null,
      "outputs": []
    },
    {
      "cell_type": "markdown",
      "metadata": {
        "id": "XMlM8GngHM_2"
      },
      "source": [
        "bitwise operator"
      ]
    },
    {
      "cell_type": "code",
      "metadata": {
        "id": "lUgOD3R-HNme"
      },
      "source": [
        "a=60 #0011 1100\n",
        "b=13 #0000 1101\n",
        "\n",
        "print(a&b)\n",
        "print(a|b)\n",
        "print(a^b)\n",
        "print(-a)\n",
        "print(a<<1) #0111 1000\n",
        "print(a<<2) #0111 1000\n",
        "print(b>>1) #1 0000 0110\n",
        "print(b>>2) #0000 0011       carry flag bit = 1"
      ],
      "execution_count": null,
      "outputs": []
    },
    {
      "cell_type": "markdown",
      "metadata": {
        "id": "lnMgfKjbHQY9"
      },
      "source": [
        "python operators"
      ]
    },
    {
      "cell_type": "code",
      "metadata": {
        "id": "BANeQp0nHZv2"
      },
      "source": [
        "a+=3 #Same as a= a + 3\n",
        "     #Same as a= 60 + 3, a=63\n",
        "\n",
        "print(a)"
      ],
      "execution_count": null,
      "outputs": []
    },
    {
      "cell_type": "markdown",
      "metadata": {
        "id": "bE_mhXDGHb6-"
      },
      "source": [
        "logical operators"
      ]
    },
    {
      "cell_type": "code",
      "metadata": {
        "colab": {
          "base_uri": "https://localhost:8080/"
        },
        "id": "4WOLNY8RHdvu",
        "outputId": "45839537-7dcd-4530-96a4-9e7992739331"
      },
      "source": [
        "#and logical operator\n",
        "\n",
        "a=True\n",
        "b=False\n",
        "\n",
        "print(a and b)\n",
        "print(not( a and b))\n",
        "print(a or b)\n",
        "print(not a or b)\n",
        "a is b\n",
        "a is not b\n"
      ],
      "execution_count": 2,
      "outputs": [
        {
          "output_type": "stream",
          "name": "stdout",
          "text": [
            "False\n",
            "True\n",
            "True\n",
            "False\n"
          ]
        },
        {
          "output_type": "execute_result",
          "data": {
            "text/plain": [
              "True"
            ]
          },
          "metadata": {},
          "execution_count": 2
        }
      ]
    }
  ]
}